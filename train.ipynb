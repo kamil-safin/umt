{
 "cells": [
  {
   "cell_type": "code",
   "execution_count": null,
   "metadata": {},
   "outputs": [],
   "source": [
    "import sys\n",
    "from utils import *\n",
    "from opennmt.utils.misc import count_lines"
   ]
  },
  {
   "cell_type": "code",
   "execution_count": null,
   "metadata": {},
   "outputs": [],
   "source": [
    "src = './data/unsupervised-nmt-enfr-dev/train.en.10k'\n",
    "tgt = './data/unsupervised-nmt-enfr-dev/train.fr.10k'\n",
    "src_trans = './data/unsupervised-nmt-enfr-dev/train.en.10k.m1'\n",
    "tgt_trans = './data/unsupervised-nmt-enfr-dev/train.fr.10k.m1'\n",
    "src_vocab_path = './data/unsupervised-nmt-enfr-dev/en-vocab.txt'\n",
    "tgt_vocab_path = './data/unsupervised-nmt-enfr-dev/fr-vocab.txt'\n",
    "src_emb = './data/unsupervised-nmt-enfr/wmt14m.en300.vec'\n",
    "tgt_emb = './data/unsupervised-nmt-enfr/wmt14m.fr300.vec'\n",
    "model_dir = './trained_model'"
   ]
  },
  {
   "cell_type": "code",
   "execution_count": null,
   "metadata": {},
   "outputs": [],
   "source": [
    "src_vocab_size = count_lines(src_vocab_path) + 1 # EOS\n",
    "tgt_vocab_size = count_lines(tgt_vocab_path) + 1 # EOS"
   ]
  },
  {
   "cell_type": "code",
   "execution_count": null,
   "metadata": {},
   "outputs": [],
   "source": [
    "src_vocab = tf.contrib.lookup.index_table_from_file(src_vocab_path, vocab_size=src_vocab_size - 1, num_oov_buckets=1)\n",
    "tgt_vocab = tf.contrib.lookup.index_table_from_file(tgt_vocab_path, vocab_size=tgt_vocab_size - 1, num_oov_buckets=1)"
   ]
  },
  {
   "cell_type": "code",
   "execution_count": null,
   "metadata": {},
   "outputs": [],
   "source": [
    "with tf.device(\"/cpu:0\"):  # Input pipeline should always be place on the CPU.\n",
    "    src_iterator = load_data(src, src_trans, src_vocab, tgt_vocab)\n",
    "    tgt_iterator = load_data(tgt, tgt_trans, tgt_vocab, src_vocab)\n",
    "    src = src_iterator.get_next()\n",
    "    tgt = tgt_iterator.get_next()"
   ]
  },
  {
   "cell_type": "code",
   "execution_count": null,
   "metadata": {},
   "outputs": [],
   "source": [
    "with tf.variable_scope(\"src\"):\n",
    "    src_emb = load_embeddings(src_emb, src_vocab_path)\n",
    "\n",
    "with tf.variable_scope(\"tgt\"):\n",
    "    tgt_emb = load_embeddings(tgt_emb, tgt_vocab_path)"
   ]
  },
  {
   "cell_type": "code",
   "execution_count": null,
   "metadata": {},
   "outputs": [],
   "source": [
    "hidden_size = 512\n",
    "encoder = onmt.encoders.BidirectionalRNNEncoder(2, hidden_size)\n",
    "decoder = onmt.decoders.AttentionalRNNDecoder(2, hidden_size, bridge=onmt.layers.CopyBridge())\n",
    "\n",
    "src_encoder_auto = add_noise_and_encode(src[\"ids\"], src[\"length\"], src_emb, encoder, reuse=None)\n",
    "tgt_encoder_auto = add_noise_and_encode(tgt[\"ids\"], tgt[\"length\"], tgt_emb, encoder, reuse=True)\n",
    "\n",
    "src_encoder_cross = add_noise_and_encode(tgt[\"trans_ids\"], tgt[\"trans_length\"], src_emb, encoder, reuse=True)\n",
    "tgt_encoder_cross = add_noise_and_encode(src[\"trans_ids\"], src[\"trans_length\"], tgt_emb, encoder, reuse=True)"
   ]
  },
  {
   "cell_type": "code",
   "execution_count": null,
   "metadata": {},
   "outputs": [],
   "source": [
    "with tf.variable_scope(\"src\"):\n",
    "    src_gen = tf.layers.Dense(src_vocab_size)\n",
    "    src_gen.build([None, hidden_size])\n",
    "\n",
    "with tf.variable_scope(\"tgt\"):\n",
    "    tgt_gen = tf.layers.Dense(tgt_vocab_size)\n",
    "    tgt_gen.build([None, hidden_size])\n",
    "\n",
    "l_auto_src = denoise(src, src_emb, src_encoder_auto, src_gen, decoder, reuse=None)\n",
    "l_auto_tgt = denoise(tgt, tgt_emb, tgt_encoder_auto, tgt_gen, decoder, reuse=True)\n",
    "\n",
    "l_cd_src = denoise(src, src_emb, tgt_encoder_cross, src_gen, decoder, reuse=True)\n",
    "l_cd_tgt = denoise(tgt, tgt_emb, src_encoder_cross, tgt_gen, decoder, reuse=True)"
   ]
  },
  {
   "cell_type": "code",
   "execution_count": null,
   "metadata": {
    "scrolled": true
   },
   "outputs": [],
   "source": [
    "batch_size = tf.shape(src[\"length\"])[0]\n",
    "all_encoder_outputs = [src_encoder_auto, src_encoder_cross, tgt_encoder_auto, tgt_encoder_cross]\n",
    "lang_ids = tf.concat([tf.fill([batch_size * 2], 0), tf.fill([batch_size * 2], 1)], 0)\n",
    "\n",
    "max_time = tf.reduce_max([tf.shape(output[0])[1] for output in all_encoder_outputs])\n",
    "\n",
    "encodings = tf.concat([pad_in_time(output[0], max_time - tf.shape(output[0])[1]) for output in all_encoder_outputs], 0)\n",
    "sequence_lengths = tf.concat([output[2] for output in all_encoder_outputs], 0)\n",
    "\n",
    "with tf.variable_scope(\"discriminator\"):\n",
    "    l_d, l_adv = discriminator(encodings, sequence_lengths, lang_ids)\n",
    "\n",
    "lambda_auto = 1\n",
    "lambda_cd = 1\n",
    "lambda_adv = 1\n",
    "\n",
    "l_auto = l_auto_src + l_auto_tgt\n",
    "l_cd = l_cd_src + l_cd_tgt\n",
    "\n",
    "l_final = (lambda_auto * l_auto + lambda_cd * l_cd + lambda_adv * l_adv)"
   ]
  },
  {
   "cell_type": "code",
   "execution_count": null,
   "metadata": {},
   "outputs": [],
   "source": [
    "encdec_variables = []\n",
    "discri_variables = []\n",
    "for variable in tf.trainable_variables():\n",
    "    if variable.name.startswith(\"discriminator\"):\n",
    "        discri_variables.append(variable)\n",
    "    else:\n",
    "        encdec_variables.append(variable)\n",
    "\n",
    "global_step = tf.train.get_or_create_global_step()\n",
    "train_op = build_train_op(global_step, encdec_variables, discri_variables, l_final, l_d)"
   ]
  },
  {
   "cell_type": "code",
   "execution_count": null,
   "metadata": {
    "scrolled": true
   },
   "outputs": [],
   "source": [
    "i = 0\n",
    "with tf.train.MonitoredTrainingSession(checkpoint_dir=model_dir) as sess:\n",
    "    sess.run([src_iterator.initializer, tgt_iterator.initializer])\n",
    "    while not sess.should_stop():\n",
    "        if i % 2 == 0:\n",
    "            _, step, _l_auto, _l_cd, _l_adv, _l = sess.run([train_op, global_step, l_auto, l_cd, l_adv, l_final])\n",
    "            print(\"{} - l_auto = {}; l_cd = {}, l_adv = {}; l = {}\".format(step, _l_auto, _l_cd, _l_adv, _l))\n",
    "        else:\n",
    "            _, step, _l_d = sess.run([train_op, global_step, l_d])\n",
    "            print(\"{} - l_d = {}\".format(step, _l_d))\n",
    "        i += 1\n",
    "        sys.stdout.flush()"
   ]
  },
  {
   "cell_type": "code",
   "execution_count": null,
   "metadata": {},
   "outputs": [],
   "source": []
  }
 ],
 "metadata": {
  "kernelspec": {
   "display_name": "Python 3",
   "language": "python",
   "name": "python3"
  },
  "language_info": {
   "codemirror_mode": {
    "name": "ipython",
    "version": 3
   },
   "file_extension": ".py",
   "mimetype": "text/x-python",
   "name": "python",
   "nbconvert_exporter": "python",
   "pygments_lexer": "ipython3",
   "version": "3.6.7"
  }
 },
 "nbformat": 4,
 "nbformat_minor": 2
}
